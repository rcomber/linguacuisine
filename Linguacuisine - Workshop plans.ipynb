{
 "cells": [
  {
   "cell_type": "markdown",
   "metadata": {},
   "source": [
    "# Workshop Plans"
   ]
  },
  {
   "cell_type": "markdown",
   "metadata": {},
   "source": [
    "## Workshop 1    \n",
    "Total Time: 5 Hours  \n",
    "__Main activity__: This workshop is intended to introduce participants to the research team and to each other. The activities will focus on getting people talking, sharing, and creating content. The barrier to entry for content creation will be low, using primarily pen and paper. A large amount of time will be spent on completing the DigComp assessment.  \n",
    "\n",
    "|   Time           | Task                        |\n",
    "|--------------|-------------------------|\n",
    "|11.00 - 11.15 | Introduction to project |\n",
    "|11.15 - 11.30 | Ice-breaker (talk to another participant and introduce them to the group)|\n",
    "|11.30 - 12.30 | DigComp assessment (complete questionnaire)|\n",
    "|12.30 - 13.30 | Lunch, Photos & Demo|\n",
    "|13.30 - 14.30 | Recipe creation (create a recipe on paper and share it with the group)|\n",
    "|14.30 - 14.45 | Close|\n",
    "|14.45 - 15.00 | Admin (including vouchers)|\n",
    "\n",
    "\n",
    "### Tasks  \n",
    "_Introduction_: A quick overview of the project is presented  \n",
    "_Ice-breaker_: Each participant talks to another and gathers information to introduce them to the remainder of the group \n",
    "_DigComp Assessment_: Participants individually complete the DigComp questionnaire  \n",
    "_Recipe creation_: Using pen and paper, participants create a recipe. Once recipes are created, we share them back to the full group.  \n",
    "\n",
    "\n",
    "### Notes  \n",
    "__Completion time:__ Some participants completed the DigComp assessment rapidly (15-20 mins), while others took up to 1 hour 15 mins.  \n",
    "__Late start:__ Due to the late arrival of participants, the DigComp assessment was moved to after the lunch break. This meant participants were settled in, having shared recipes, but the afternoon session was very long for those who completed the assessment quickly.  \n"
   ]
  },
  {
   "cell_type": "markdown",
   "metadata": {},
   "source": [
    "## Workshop 2\n",
    "\n",
    "Total Time: 5 hours  \n",
    "Main activities: Introduction to iPad; Browsing and Searching; Video-making (Bootlegger)\n",
    "\n",
    "\n",
    "| Start  | End   | Activity  |\n",
    "|---|---|---|\n",
    "| 11.00  | 11.10  | Welcome  |\n",
    "| 11.10  | 11.30  | Icebreaker  |\n",
    "| 11.30  | 12.00  | Needs Questionnaire    |\n",
    "| 12.00  | 12.30  | Intro to iPads  |\n",
    "| 12.30  | 13.30  | Lunch  |\n",
    "| 13.30  | 14.00  | Browsing and Searching  |\n",
    "| 14.00  | 14.30  | Video making  |\n",
    "| 14.30  | 14.45  | Review  |\n",
    "| 14.45  | 15.00  | End  |\n",
    "\n",
    "## Tasks  \n",
    "_Icebreaker_: Participants will quickly introduce themselves (particularly new participants), and a quick activity to get everyone settled can be used.  \n",
    "_Questionnaire_: The Needs Questionnaire is distributed and completed by participants.  \n",
    "_Intro to iPads_: A very brief introduction to the main physical and software components of the iPad. Participants have a hands-on session with the iPads.   \n",
    "_Browsing and Searching_:  Participants search for recipes using Safari and Google Search. Exercise details in document: XXXXXX  \n",
    "_Video making_: Participants use the Bootlegger application to create a short video (120 seconds) on their motivation for participating in the project.   \n",
    "_Reivew_: A small number of videos are reviewed and we talk about the different motivations people have for participating.  \n",
    "\n",
    "## Notes  \n",
    "__Questionnaire__: Much like the DigComp assessment, completion times varied, and additional side-activities might be required.  \n",
    "__Browsing and search__: Some participants are very familiar with iPads, and have started to search for recipes during the Introduction to the iPads. This is encouraged and the participants are asked to provide more feedback on the websites.  \n",
    "__Video making__: Creating videos is successful, but playback has issues with audio. These are resolved with a central admin user being able to playback audio and ensuring the videos are correctly uploaded by the participants. Bootlegger may not be necessary for this, and simply using the iPad video camera might be enough to capture the content.  \n"
   ]
  },
  {
   "cell_type": "markdown",
   "metadata": {},
   "source": [
    "## Workshop 3\n",
    "\n",
    "Total Time: 5 hours  \n",
    "\n",
    "\n",
    "| Start  | End   | Activity  |\n",
    "|---|---|---|\n",
    "| 11.00 | 11.15 | Introduction  |\n",
    "| 11.15 | 12.30 | Recipe Card - Paper Activity (individual / pairs)  |\n",
    "| 12.30 | 13.30 | Lunch  |\n",
    "| 13.30 | 14.45 | Recipe Card - Digital Activity (in pairs - try to work with a novice and experienced together)  |\n",
    "| 14.45 | 15.00 | Collect vouchers and finish   |\n",
   "\n",
   "## Tasks \n",
   "_Introduction_: Describe today's activities, organise groups\n",
   "_Recipe Card - Paper Activity_:\n",
   "* What components are required for a recipe card? (e.g. list of ingredients) - discussion + suggestions - record in document on screen ~10 mins.  \n",
   "* What kind Of Meta-Data would be useful (e.g. Indian, Italian)? - discussion + suggestions - record in document on screen ~10mins.  \n",
   "* Design a layout - Use provided materials (Photos, Post-its, Coloured Paper etc.) to prototype a recipe card. (If some participants finish early give option to make a second recipe using same layout - does layout work for all recipes? ~ 40 mins  \n",
   "* Pass Completed Card to another participant/group - short design critique discussion - present to group. ~15 mins  \n",
   "_Recipe Card - Digital Activity_:  \n",
   "*Use pages app on ipad to design a layout for a digital card - participants can recreate paper version, using built in template or do from scratch. Encourage experimentation ~ 30 mins  \n",
   "*Fill in content of the layout with a recipe - use images provided or find images online. Play with fonts and colours etc. to produce professional design (i.e. one that could be printed and used) - (If finished early - give option to make a second recipe using same layout - does it work for all recipes?) ~ 30 mins  \n",
   "*Swap ipad with another pair - short design critique discussion and complete adapted SUS usability ~15 mins  \n"
   ]
  },
  {
   "cell_type": "markdown",
   "metadata": {},
   "source": [
    "## Workshop 4  \n",
    "\n",
    "Total time: 5 hours  \n",
    "Main activity: Learn about Digital Citizenship; Learn about storyboarding and video-making  \n",
    "\n",
    "| Start  | End   | Activity  |\n",
    "|---|---|---|\n",
    "| 11.00  | 11.10  | Welcome  |\n",
    "| 11.10  | 11.30  | Introduction to Digital Citizenship  |\n",
    "| 11.30  | 12.00  | Video content & Discussion (10min & 10min x 3): Etiquette; Over-sharing; Cyber-bullying  |\n",
    "| 12.00  | 13.00  | Lunch  |\n",
    "| 13.00  | 13.20  | Learn about storyboarding  |\n",
    "| 13.20  | 13.40  | Learn about Shot choice  |\n",
    "| 13.40  | 13.50  | Example video  |\n",
    "| 13.50  | 14.20  | Create storyboard of example video with optional templates  |\n",
    "| 14.20  | 14.30  | Explain Brief  |\n",
    "| 14.30  | 14.45  | Create Storyboard with optional templates  |\n",
    "| 14.45  | 15.00  | Close and vouchers  |\n",
    "\n",
    "### Tasks\n",
    "_Introduction to Digital Citizenship_: This will be a short talk on what Digital Citizenship is and what we will be covering. It will use available resources to talk about major topics, and also talk specifically about this project.  \n",
    "_Video content & Discussion)_: This activity will involve watching short videos on Digital Citizenship followed by a discussion of each topic and people's experiences of that topic, such as over-sharing.  \n",
    "_Storyboarding_: We will introduce the basic concept of structured story planning and story telling using storyboards.  \n",
    "_Shot choice_: We will introduce some of the basic concepts of film making around shot-choice, such as close-up, mid-shot.  \n",
    "_Example video_: We will watch a short video to demonstrate some of the shot choices.  \n",
    "_Create Storyboard 1_: Participants will use a blank storyboard to recreate a possible storyboard for the example video. We will provide 'templates' of generic shot-types to assist those who might not be comfortable drawing.  \n",
    "_Explain brief_: In the next activity participants will create a storyboard for their own video. We will introduce the topic, format and timing of the video. This will focus on creating a recipe video.  \n",
    "_Create storyboard 2_: Participants will create a second storyboard using the brief provided. The storyboard will be used in the next session, so should be retained by the research team.  "
   ]
  },
  {
   "cell_type": "markdown",
   "metadata": {},
   "source": [
    "## Workshop 5\n",
    "| Start  | End   | Activity  |\n",
    "|---|---|---|\n",
    "| 11.00  | 11.30  | Learning how to use iMovie  |\n",
    "| 11.30  | 11.40  | Review storyboards |\n",
    "| 11.40  | 12.10  | Curation exercise   |\n",
    "| 12.10  | 12.30  | Make an edit  |\n",
    "| 12.30  | 13.30  | Lunch |\n",
    "| 13.30  | 13.45  | Quick storyboard for new recipe   |\n",
    "| 13.45  | 14.15  | Shoot clips and edit |\n",
    "| 14.15  | 14.45  | Review edits  |\n",
    "| 14.45  | 15.00  | Close and vouchers  |"
   ]
  }
 ],
 "metadata": {
  "hide_input": true,
  "kernelspec": {
   "display_name": "Python 2",
   "language": "python",
   "name": "python2"
  },
  "language_info": {
   "codemirror_mode": {
    "name": "ipython",
    "version": 2
   },
   "file_extension": ".py",
   "mimetype": "text/x-python",
   "name": "python",
   "nbconvert_exporter": "python",
   "pygments_lexer": "ipython2",
   "version": "2.7.10"
  },
  "nav_menu": {},
  "toc": {
   "navigate_menu": true,
   "number_sections": false,
   "sideBar": false,
   "threshold": 6,
   "toc_cell": true,
   "toc_section_display": "none",
   "toc_window_display": false
  }
 },
 "nbformat": 4,
 "nbformat_minor": 1
}
